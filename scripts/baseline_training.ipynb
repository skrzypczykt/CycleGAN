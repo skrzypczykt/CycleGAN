{
  "nbformat": 4,
  "nbformat_minor": 0,
  "metadata": {
    "accelerator": "GPU",
    "colab": {
      "name": "baseline_training.ipynb",
      "provenance": [],
      "authorship_tag": "ABX9TyNMXmfQY/ZGe2V4cOZJos03",
      "include_colab_link": true
    },
    "kernelspec": {
      "display_name": "Python 3",
      "name": "python3"
    },
    "language_info": {
      "name": "python"
    }
  },
  "cells": [
    {
      "cell_type": "markdown",
      "metadata": {
        "id": "view-in-github",
        "colab_type": "text"
      },
      "source": [
        "<a href=\"https://colab.research.google.com/github/skrzypczykt/CycleGAN/blob/main/scripts/baseline_training.ipynb\" target=\"_parent\"><img src=\"https://colab.research.google.com/assets/colab-badge.svg\" alt=\"Open In Colab\"/></a>"
      ]
    },
    {
      "cell_type": "code",
      "metadata": {
        "colab": {
          "base_uri": "https://localhost:8080/",
          "height": 1000
        },
        "id": "1nrfjyZkSa1w",
        "outputId": "160c6102-a208-431c-edf1-30fccd2b53d4"
      },
      "source": [
        "#source summer2winter_yosemite\n",
        "from google.colab import drive\n",
        "drive.mount('/content/drive')\n",
        "\n",
        "!pip install git+https://www.github.com/keras-team/keras-contrib.git\n",
        "!pip install -U tensorflow-addons\n",
        "!pip install git+https://github.com/skrzypczykt/CycleGAN.git\n",
        "!pip install matplotlib==3.1.1\n",
        "%load_ext autoreload\n",
        "%autoreload 2\n",
        "\n",
        "\n",
        "\n",
        "# Download data \n",
        "\n",
        "!wget https://s3.amazonaws.com/video.udacity-data.com/topher/2018/November/5be66e78_summer2winter-yosemite/summer2winter-yosemite.zip\n",
        "!unzip -q summer2winter-yosemite.zip\n",
        "!rm summer2winter-yosemite.zip\n",
        "!mv ./summer2winter_yosemite ./summer2winter-yosemite"
      ],
      "execution_count": 1,
      "outputs": [
        {
          "output_type": "stream",
          "text": [
            "Mounted at /content/drive\n",
            "Collecting git+https://www.github.com/keras-team/keras-contrib.git\n",
            "  Cloning https://www.github.com/keras-team/keras-contrib.git to /tmp/pip-req-build-rj42be6z\n",
            "  Running command git clone -q https://www.github.com/keras-team/keras-contrib.git /tmp/pip-req-build-rj42be6z\n",
            "Requirement already satisfied: keras in /usr/local/lib/python3.7/dist-packages (from keras-contrib==2.0.8) (2.4.3)\n",
            "Requirement already satisfied: numpy>=1.9.1 in /usr/local/lib/python3.7/dist-packages (from keras->keras-contrib==2.0.8) (1.19.5)\n",
            "Requirement already satisfied: pyyaml in /usr/local/lib/python3.7/dist-packages (from keras->keras-contrib==2.0.8) (3.13)\n",
            "Requirement already satisfied: h5py in /usr/local/lib/python3.7/dist-packages (from keras->keras-contrib==2.0.8) (3.1.0)\n",
            "Requirement already satisfied: scipy>=0.14 in /usr/local/lib/python3.7/dist-packages (from keras->keras-contrib==2.0.8) (1.4.1)\n",
            "Requirement already satisfied: cached-property; python_version < \"3.8\" in /usr/local/lib/python3.7/dist-packages (from h5py->keras->keras-contrib==2.0.8) (1.5.2)\n",
            "Building wheels for collected packages: keras-contrib\n",
            "  Building wheel for keras-contrib (setup.py) ... \u001b[?25l\u001b[?25hdone\n",
            "  Created wheel for keras-contrib: filename=keras_contrib-2.0.8-cp37-none-any.whl size=101065 sha256=cf3c3eb8ae31678743c853231cf82157f6a5ce9bc3b63d4941eb494f174670f1\n",
            "  Stored in directory: /tmp/pip-ephem-wheel-cache-w_tudut4/wheels/11/27/c8/4ed56de7b55f4f61244e2dc6ef3cdbaff2692527a2ce6502ba\n",
            "Successfully built keras-contrib\n",
            "Installing collected packages: keras-contrib\n",
            "Successfully installed keras-contrib-2.0.8\n",
            "Collecting tensorflow-addons\n",
            "\u001b[?25l  Downloading https://files.pythonhosted.org/packages/66/4b/e893d194e626c24b3df2253066aa418f46a432fdb68250cde14bf9bb0700/tensorflow_addons-0.13.0-cp37-cp37m-manylinux2010_x86_64.whl (679kB)\n",
            "\u001b[K     |████████████████████████████████| 686kB 9.3MB/s \n",
            "\u001b[?25hRequirement already satisfied, skipping upgrade: typeguard>=2.7 in /usr/local/lib/python3.7/dist-packages (from tensorflow-addons) (2.7.1)\n",
            "Installing collected packages: tensorflow-addons\n",
            "Successfully installed tensorflow-addons-0.13.0\n",
            "Collecting git+https://github.com/skrzypczykt/CycleGAN.git\n",
            "  Cloning https://github.com/skrzypczykt/CycleGAN.git to /tmp/pip-req-build-937n7zdt\n",
            "  Running command git clone -q https://github.com/skrzypczykt/CycleGAN.git /tmp/pip-req-build-937n7zdt\n",
            "Requirement already satisfied: absl-py==0.12.0 in /usr/local/lib/python3.7/dist-packages (from Measurements==0.1) (0.12.0)\n",
            "Requirement already satisfied: astunparse==1.6.3 in /usr/local/lib/python3.7/dist-packages (from Measurements==0.1) (1.6.3)\n",
            "Requirement already satisfied: cachetools==4.2.2 in /usr/local/lib/python3.7/dist-packages (from Measurements==0.1) (4.2.2)\n",
            "Requirement already satisfied: certifi==2020.12.5 in /usr/local/lib/python3.7/dist-packages (from Measurements==0.1) (2020.12.5)\n",
            "Collecting chardet==4.0.0\n",
            "\u001b[?25l  Downloading https://files.pythonhosted.org/packages/19/c7/fa589626997dd07bd87d9269342ccb74b1720384a4d739a1872bd84fbe68/chardet-4.0.0-py2.py3-none-any.whl (178kB)\n",
            "\u001b[K     |████████████████████████████████| 184kB 7.5MB/s \n",
            "\u001b[?25hRequirement already satisfied: cycler==0.10.0 in /usr/local/lib/python3.7/dist-packages (from Measurements==0.1) (0.10.0)\n",
            "Requirement already satisfied: flatbuffers==1.12 in /usr/local/lib/python3.7/dist-packages (from Measurements==0.1) (1.12)\n",
            "Requirement already satisfied: gast==0.4.0 in /usr/local/lib/python3.7/dist-packages (from Measurements==0.1) (0.4.0)\n",
            "Requirement already satisfied: google-auth==1.30.0 in /usr/local/lib/python3.7/dist-packages (from Measurements==0.1) (1.30.0)\n",
            "Requirement already satisfied: google-auth-oauthlib==0.4.4 in /usr/local/lib/python3.7/dist-packages (from Measurements==0.1) (0.4.4)\n",
            "Requirement already satisfied: google-pasta==0.2.0 in /usr/local/lib/python3.7/dist-packages (from Measurements==0.1) (0.2.0)\n",
            "Requirement already satisfied: grpcio==1.34.1 in /usr/local/lib/python3.7/dist-packages (from Measurements==0.1) (1.34.1)\n",
            "Requirement already satisfied: h5py==3.1.0 in /usr/local/lib/python3.7/dist-packages (from Measurements==0.1) (3.1.0)\n",
            "Requirement already satisfied: idna==2.10 in /usr/local/lib/python3.7/dist-packages (from Measurements==0.1) (2.10)\n",
            "Requirement already satisfied: keras-nightly==2.5.0.dev2021032900 in /usr/local/lib/python3.7/dist-packages (from Measurements==0.1) (2.5.0.dev2021032900)\n",
            "Requirement already satisfied: Keras-Preprocessing==1.1.2 in /usr/local/lib/python3.7/dist-packages (from Measurements==0.1) (1.1.2)\n",
            "Requirement already satisfied: kiwisolver==1.3.1 in /usr/local/lib/python3.7/dist-packages (from Measurements==0.1) (1.3.1)\n",
            "Requirement already satisfied: Markdown==3.3.4 in /usr/local/lib/python3.7/dist-packages (from Measurements==0.1) (3.3.4)\n",
            "Collecting matplotlib==3.1.1\n",
            "\u001b[?25l  Downloading https://files.pythonhosted.org/packages/19/7a/60bd79c5d79559150f8bba866dd7d434f0a170312e4d15e8aefa5faba294/matplotlib-3.1.1-cp37-cp37m-manylinux1_x86_64.whl (13.1MB)\n",
            "\u001b[K     |████████████████████████████████| 13.1MB 220kB/s \n",
            "\u001b[?25hRequirement already satisfied: numpy==1.19.5 in /usr/local/lib/python3.7/dist-packages (from Measurements==0.1) (1.19.5)\n",
            "Requirement already satisfied: oauthlib==3.1.0 in /usr/local/lib/python3.7/dist-packages (from Measurements==0.1) (3.1.0)\n",
            "Requirement already satisfied: opt-einsum==3.3.0 in /usr/local/lib/python3.7/dist-packages (from Measurements==0.1) (3.3.0)\n",
            "Collecting Pillow==8.2.0\n",
            "\u001b[?25l  Downloading https://files.pythonhosted.org/packages/33/34/542152297dcc6c47a9dcb0685eac6d652d878ed3cea83bf2b23cb988e857/Pillow-8.2.0-cp37-cp37m-manylinux1_x86_64.whl (3.0MB)\n",
            "\u001b[K     |████████████████████████████████| 3.0MB 34.8MB/s \n",
            "\u001b[?25hCollecting protobuf==3.17.0\n",
            "\u001b[?25l  Downloading https://files.pythonhosted.org/packages/7e/16/7ba9dc81212c0e3865c08dcc9170259bc4e624fda783926fb84ed609ea25/protobuf-3.17.0-cp37-cp37m-manylinux_2_5_x86_64.manylinux1_x86_64.whl (1.0MB)\n",
            "\u001b[K     |████████████████████████████████| 1.0MB 41.2MB/s \n",
            "\u001b[?25hRequirement already satisfied: pyasn1==0.4.8 in /usr/local/lib/python3.7/dist-packages (from Measurements==0.1) (0.4.8)\n",
            "Requirement already satisfied: pyasn1-modules==0.2.8 in /usr/local/lib/python3.7/dist-packages (from Measurements==0.1) (0.2.8)\n",
            "Requirement already satisfied: pyparsing==2.4.7 in /usr/local/lib/python3.7/dist-packages (from Measurements==0.1) (2.4.7)\n",
            "Requirement already satisfied: python-dateutil==2.8.1 in /usr/local/lib/python3.7/dist-packages (from Measurements==0.1) (2.8.1)\n",
            "Collecting requests==2.25.1\n",
            "\u001b[?25l  Downloading https://files.pythonhosted.org/packages/29/c1/24814557f1d22c56d50280771a17307e6bf87b70727d975fd6b2ce6b014a/requests-2.25.1-py2.py3-none-any.whl (61kB)\n",
            "\u001b[K     |████████████████████████████████| 61kB 9.2MB/s \n",
            "\u001b[?25hRequirement already satisfied: requests-oauthlib==1.3.0 in /usr/local/lib/python3.7/dist-packages (from Measurements==0.1) (1.3.0)\n",
            "Requirement already satisfied: rsa==4.7.2 in /usr/local/lib/python3.7/dist-packages (from Measurements==0.1) (4.7.2)\n",
            "Requirement already satisfied: six==1.15.0 in /usr/local/lib/python3.7/dist-packages (from Measurements==0.1) (1.15.0)\n",
            "Requirement already satisfied: tensorboard==2.5.0 in /usr/local/lib/python3.7/dist-packages (from Measurements==0.1) (2.5.0)\n",
            "Requirement already satisfied: tensorboard-data-server==0.6.1 in /usr/local/lib/python3.7/dist-packages (from Measurements==0.1) (0.6.1)\n",
            "Requirement already satisfied: tensorboard-plugin-wit==1.8.0 in /usr/local/lib/python3.7/dist-packages (from Measurements==0.1) (1.8.0)\n",
            "Requirement already satisfied: tensorflow==2.5.0 in /usr/local/lib/python3.7/dist-packages (from Measurements==0.1) (2.5.0)\n",
            "Requirement already satisfied: tensorflow-addons==0.13.0 in /usr/local/lib/python3.7/dist-packages (from Measurements==0.1) (0.13.0)\n",
            "Requirement already satisfied: tensorflow-estimator==2.5.0 in /usr/local/lib/python3.7/dist-packages (from Measurements==0.1) (2.5.0)\n",
            "Requirement already satisfied: termcolor==1.1.0 in /usr/local/lib/python3.7/dist-packages (from Measurements==0.1) (1.1.0)\n",
            "Collecting typeguard==2.12.0\n",
            "  Downloading https://files.pythonhosted.org/packages/06/1f/c10ad900a10e1421b85d20f1c9d1748469ef5a34296693a02be887af5f95/typeguard-2.12.0-py3-none-any.whl\n",
            "Requirement already satisfied: typing-extensions==3.7.4.3 in /usr/local/lib/python3.7/dist-packages (from Measurements==0.1) (3.7.4.3)\n",
            "Collecting urllib3==1.26.4\n",
            "\u001b[?25l  Downloading https://files.pythonhosted.org/packages/09/c6/d3e3abe5b4f4f16cf0dfc9240ab7ce10c2baa0e268989a4e3ec19e90c84e/urllib3-1.26.4-py2.py3-none-any.whl (153kB)\n",
            "\u001b[K     |████████████████████████████████| 153kB 54.1MB/s \n",
            "\u001b[?25hCollecting Werkzeug==2.0.0\n",
            "\u001b[?25l  Downloading https://files.pythonhosted.org/packages/ff/1d/960bb4017c68674a1cb099534840f18d3def3ce44aed12b5ed8b78e0153e/Werkzeug-2.0.0-py3-none-any.whl (288kB)\n",
            "\u001b[K     |████████████████████████████████| 296kB 54.5MB/s \n",
            "\u001b[?25hRequirement already satisfied: wrapt==1.12.1 in /usr/local/lib/python3.7/dist-packages (from Measurements==0.1) (1.12.1)\n",
            "Requirement already satisfied: wheel<1.0,>=0.23.0 in /usr/local/lib/python3.7/dist-packages (from astunparse==1.6.3->Measurements==0.1) (0.36.2)\n",
            "Requirement already satisfied: setuptools>=40.3.0 in /usr/local/lib/python3.7/dist-packages (from google-auth==1.30.0->Measurements==0.1) (56.1.0)\n",
            "Requirement already satisfied: cached-property; python_version < \"3.8\" in /usr/local/lib/python3.7/dist-packages (from h5py==3.1.0->Measurements==0.1) (1.5.2)\n",
            "Requirement already satisfied: importlib-metadata; python_version < \"3.8\" in /usr/local/lib/python3.7/dist-packages (from Markdown==3.3.4->Measurements==0.1) (4.0.1)\n",
            "Requirement already satisfied: zipp>=0.5 in /usr/local/lib/python3.7/dist-packages (from importlib-metadata; python_version < \"3.8\"->Markdown==3.3.4->Measurements==0.1) (3.4.1)\n",
            "Building wheels for collected packages: Measurements\n",
            "  Building wheel for Measurements (setup.py) ... \u001b[?25l\u001b[?25hdone\n",
            "  Created wheel for Measurements: filename=Measurements-0.1-cp37-none-any.whl size=7416 sha256=0ae7e602a6da2207000ef9e1e7d21599adc5b0aaf1fcdc35817dcf89342089cb\n",
            "  Stored in directory: /tmp/pip-ephem-wheel-cache-d42mhm3a/wheels/b3/75/b0/04104553b0d69a778fdaa95d668c7a6a11d7eb46922e052fc6\n",
            "Successfully built Measurements\n",
            "\u001b[31mERROR: google-colab 1.0.0 has requirement requests~=2.23.0, but you'll have requests 2.25.1 which is incompatible.\u001b[0m\n",
            "\u001b[31mERROR: flask 1.1.4 has requirement Werkzeug<2.0,>=0.15, but you'll have werkzeug 2.0.0 which is incompatible.\u001b[0m\n",
            "\u001b[31mERROR: datascience 0.10.6 has requirement folium==0.2.1, but you'll have folium 0.8.3 which is incompatible.\u001b[0m\n",
            "\u001b[31mERROR: albumentations 0.1.12 has requirement imgaug<0.2.7,>=0.2.5, but you'll have imgaug 0.2.9 which is incompatible.\u001b[0m\n",
            "Installing collected packages: chardet, matplotlib, Pillow, protobuf, urllib3, requests, typeguard, Werkzeug, Measurements\n",
            "  Found existing installation: chardet 3.0.4\n",
            "    Uninstalling chardet-3.0.4:\n",
            "      Successfully uninstalled chardet-3.0.4\n",
            "  Found existing installation: matplotlib 3.2.2\n",
            "    Uninstalling matplotlib-3.2.2:\n",
            "      Successfully uninstalled matplotlib-3.2.2\n",
            "  Found existing installation: Pillow 7.1.2\n",
            "    Uninstalling Pillow-7.1.2:\n",
            "      Successfully uninstalled Pillow-7.1.2\n",
            "  Found existing installation: protobuf 3.12.4\n",
            "    Uninstalling protobuf-3.12.4:\n",
            "      Successfully uninstalled protobuf-3.12.4\n",
            "  Found existing installation: urllib3 1.24.3\n",
            "    Uninstalling urllib3-1.24.3:\n",
            "      Successfully uninstalled urllib3-1.24.3\n",
            "  Found existing installation: requests 2.23.0\n",
            "    Uninstalling requests-2.23.0:\n",
            "      Successfully uninstalled requests-2.23.0\n",
            "  Found existing installation: typeguard 2.7.1\n",
            "    Uninstalling typeguard-2.7.1:\n",
            "      Successfully uninstalled typeguard-2.7.1\n",
            "  Found existing installation: Werkzeug 1.0.1\n",
            "    Uninstalling Werkzeug-1.0.1:\n",
            "      Successfully uninstalled Werkzeug-1.0.1\n",
            "Successfully installed Measurements-0.1 Pillow-8.2.0 Werkzeug-2.0.0 chardet-4.0.0 matplotlib-3.1.1 protobuf-3.17.0 requests-2.25.1 typeguard-2.12.0 urllib3-1.26.4\n"
          ],
          "name": "stdout"
        },
        {
          "output_type": "display_data",
          "data": {
            "application/vnd.colab-display-data+json": {
              "pip_warning": {
                "packages": [
                  "PIL",
                  "google",
                  "matplotlib",
                  "mpl_toolkits"
                ]
              }
            }
          },
          "metadata": {
            "tags": []
          }
        },
        {
          "output_type": "stream",
          "text": [
            "Requirement already satisfied: matplotlib==3.1.1 in /usr/local/lib/python3.7/dist-packages (3.1.1)\n",
            "Requirement already satisfied: python-dateutil>=2.1 in /usr/local/lib/python3.7/dist-packages (from matplotlib==3.1.1) (2.8.1)\n",
            "Requirement already satisfied: kiwisolver>=1.0.1 in /usr/local/lib/python3.7/dist-packages (from matplotlib==3.1.1) (1.3.1)\n",
            "Requirement already satisfied: numpy>=1.11 in /usr/local/lib/python3.7/dist-packages (from matplotlib==3.1.1) (1.19.5)\n",
            "Requirement already satisfied: cycler>=0.10 in /usr/local/lib/python3.7/dist-packages (from matplotlib==3.1.1) (0.10.0)\n",
            "Requirement already satisfied: pyparsing!=2.0.4,!=2.1.2,!=2.1.6,>=2.0.1 in /usr/local/lib/python3.7/dist-packages (from matplotlib==3.1.1) (2.4.7)\n",
            "Requirement already satisfied: six>=1.5 in /usr/local/lib/python3.7/dist-packages (from python-dateutil>=2.1->matplotlib==3.1.1) (1.15.0)\n",
            "--2021-05-31 19:30:16--  https://s3.amazonaws.com/video.udacity-data.com/topher/2018/November/5be66e78_summer2winter-yosemite/summer2winter-yosemite.zip\n",
            "Resolving s3.amazonaws.com (s3.amazonaws.com)... 52.216.140.254\n",
            "Connecting to s3.amazonaws.com (s3.amazonaws.com)|52.216.140.254|:443... connected.\n",
            "HTTP request sent, awaiting response... 200 OK\n",
            "Length: 133783376 (128M) [application/zip]\n",
            "Saving to: ‘summer2winter-yosemite.zip’\n",
            "\n",
            "summer2winter-yosem 100%[===================>] 127.58M  39.6MB/s    in 3.2s    \n",
            "\n",
            "2021-05-31 19:30:19 (39.6 MB/s) - ‘summer2winter-yosemite.zip’ saved [133783376/133783376]\n",
            "\n"
          ],
          "name": "stdout"
        }
      ]
    },
    {
      "cell_type": "code",
      "metadata": {
        "id": "xHbrZ_RDSqW1"
      },
      "source": [
        "import os\n",
        "from gans.CycleGAN import load_data, CycleGAN, check_directories, plot_gan_results, generate_test_results, get_last_epoch\n",
        "import tensorflow as tf\n",
        "import logging\n",
        "logging.getLogger(\"tensorflow\").setLevel(logging.ERROR)\n",
        "import matplotlib.pyplot as plt\n"
      ],
      "execution_count": 2,
      "outputs": []
    },
    {
      "cell_type": "code",
      "metadata": {
        "id": "JL2IVxKHXy-0",
        "colab": {
          "base_uri": "https://localhost:8080/",
          "height": 927
        },
        "outputId": "733dd8d7-b097-489b-cec1-3bef12821b5e"
      },
      "source": [
        "data_dir = '/content/summer2winter-yosemite'\n",
        "#data_dir = '../data/summer2winter_yosemite'\n",
        "\n",
        "IMG_WIDTH = 256\n",
        "IMG_HEIGHT = 256\n",
        "\n",
        "RESTORE_TRAINING = True\n",
        "\n",
        "PROJECT_ROOT_DIR = \"/content/drive/MyDrive/CycleGAN/resnet/\"\n",
        "# PROJECT_ROOT_DIR = \"../trainings/resnet/\"\n",
        "\n",
        "IMAGES_PATH = os.path.join(PROJECT_ROOT_DIR, \"images\")\n",
        "checkpoint_path = os.path.join(PROJECT_ROOT_DIR, \"checkpoints\")\n",
        "\n",
        "check_directories(PROJECT_ROOT_DIR)\n",
        "\n",
        "#load data\n",
        "train_winter, test_winter, train_summer, test_summer, sample_A, sample_B, length = load_data(data_dir, IMG_WIDTH, IMG_HEIGHT)\n",
        "\n",
        "\n",
        "gan = CycleGAN(\n",
        "        input_dim=(IMG_WIDTH, IMG_HEIGHT, 3)\n",
        "        , learning_rate=0.0002\n",
        "        , buffer_max_length=50\n",
        "        , lambda_validation=1\n",
        "        , lambda_reconstr=10\n",
        "        , lambda_id=2\n",
        "        , generator_type='resnet'\n",
        "        , gen_n_filters=32\n",
        "        , disc_n_filters=32\n",
        "        , n_batches=length\n",
        "    )\n",
        "\n",
        "\n",
        "\n",
        "if RESTORE_TRAINING:\n",
        "    max_epoch = get_last_epoch(checkpoint_path)\n",
        "    model_found = os.path.join(checkpoint_path, f'weights/weights-{max_epoch}.h5')\n",
        "    print(\"Found model:\", model_found)\n",
        "    gan.load_weights(model_found)\n",
        "    gan.epoch = max_epoch\n",
        "else:\n",
        "    print(\"Training from scratch:\")\n",
        "    gan.save(checkpoint_path)\n",
        "\n",
        "EPOCHS = 1\n",
        "PRINT_EVERY_N_BATCHES = 1000\n",
        "\n",
        "\"\"\"##train\"\"\"\n",
        "\n",
        "gan.train(tf.data.Dataset.zip((train_winter.take(10), train_summer.take(10)))\n",
        "          , run_folder=checkpoint_path\n",
        "          , epochs=EPOCHS\n",
        "          , test_A_file=sample_A\n",
        "          , test_B_file=sample_B\n",
        "          , batch_size=1\n",
        "          , sample_interval=PRINT_EVERY_N_BATCHES)\n",
        "\n",
        "\"\"\"##Loss\"\"\"\n",
        "plot_gan_results(gan)\n",
        "\n",
        "\n",
        "\n",
        "\"\"\"#Test\"\"\"\n",
        "generate_test_results(gan, tf.data.Dataset.zip((test_winter.take(10), test_summer.take(10))), PROJECT_ROOT_DIR)\n"
      ],
      "execution_count": 3,
      "outputs": [
        {
          "output_type": "stream",
          "text": [
            "Found 962 files belonging to 1 classes.\n",
            "Found 1231 files belonging to 1 classes.\n",
            "Found 238 files belonging to 1 classes.\n",
            "Found 309 files belonging to 1 classes.\n",
            "Found model: /content/drive/MyDrive/CycleGAN/resnet/checkpoints/weights/weights-19.h5\n",
            "[Epoch 20/21] [Batch 0/962] [D loss: 0.513537622988224, acc: 39.4775390625] [G loss: 7.154829978942871, adv: 0.5138005316257477, recon:0.5557641386985779, id: ] time: 0.5416939556598663 \n"
          ],
          "name": "stdout"
        },
        {
          "output_type": "stream",
          "text": [
            "/usr/local/lib/python3.7/dist-packages/tensorflow/python/keras/utils/generic_utils.py:497: CustomMaskWarning: Custom mask layers require a config and must override get_config. When loading, the custom mask layer must be passed to the custom_objects argument.\n",
            "  category=CustomMaskWarning)\n"
          ],
          "name": "stderr"
        },
        {
          "output_type": "stream",
          "text": [
            "[Epoch 20/21] [Batch 1/962] [D loss: 0.3599247895181179, acc: 52.1240234375] [G loss: 10.927913665771484, adv: 0.8764264583587646, recon:0.8422267138957977, id: ] time: 0.8146098852157593 \n",
            "[Epoch 20/21] [Batch 2/962] [D loss: 0.34552472829818726, acc: 53.6376953125] [G loss: 10.239675521850586, adv: 0.8328676521778107, recon:0.7923243045806885, id: ] time: 0.7417824268341064 \n",
            "[Epoch 20/21] [Batch 3/962] [D loss: 0.30686336010694504, acc: 51.708984375] [G loss: 9.204855918884277, adv: 0.8316901922225952, recon:0.7070883214473724, id: ] time: 0.6511413753032684 \n",
            "[Epoch 20/21] [Batch 4/962] [D loss: 0.2967335991561413, acc: 59.0576171875] [G loss: 9.068181037902832, adv: 1.0132448971271515, recon:0.6768938302993774, id: ] time: 0.6429989039897919 \n",
            "[Epoch 20/21] [Batch 5/962] [D loss: 0.3334934189915657, acc: 52.4169921875] [G loss: 11.812830924987793, adv: 0.774997889995575, recon:0.9255176186561584, id: ] time: 0.8913283944129944 \n",
            "[Epoch 20/21] [Batch 6/962] [D loss: 0.3788287714123726, acc: 51.4892578125] [G loss: 8.221588134765625, adv: 0.7737458050251007, recon:0.6269636750221252, id: ] time: 0.589102566242218 \n",
            "[Epoch 20/21] [Batch 7/962] [D loss: 0.34407465904951096, acc: 45.263671875] [G loss: 6.849519729614258, adv: 0.7249560058116913, recon:0.5094342976808548, id: ] time: 0.5151105523109436 \n",
            "[Epoch 20/21] [Batch 8/962] [D loss: 0.34259016811847687, acc: 51.5869140625] [G loss: 10.338096618652344, adv: 0.9080672860145569, recon:0.7968695759773254, id: ] time: 0.7306663990020752 \n",
            "[Epoch 20/21] [Batch 9/962] [D loss: 0.31553520634770393, acc: 50.439453125] [G loss: 6.209169387817383, adv: 0.6449760794639587, recon:0.4712728410959244, id: ] time: 0.4257322996854782 \n"
          ],
          "name": "stdout"
        },
        {
          "output_type": "display_data",
          "data": {
            "image/png": "[encoded data removed]",
            "text/plain": [
              "<Figure size 1440x720 with 1 Axes>"
            ]
          },
          "metadata": {
            "tags": [],
            "needs_background": "light"
          }
        }
      ]
    },
    {
      "cell_type": "code",
      "metadata": {
        "id": "rCCpCiErCOg7"
      },
      "source": [
        ""
      ],
      "execution_count": 3,
      "outputs": []
    }
  ]
}